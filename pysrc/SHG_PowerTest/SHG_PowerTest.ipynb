{
 "cells": [
  {
   "cell_type": "markdown",
   "metadata": {},
   "source": [
    "# SHG Test with Transmission mode just after the laser"
   ]
  }
 ],
 "metadata": {
  "kernelspec": {
   "display_name": "Python 3.9.7 64-bit",
   "language": "python",
   "name": "python3"
  },
  "language_info": {
   "name": "python",
   "version": "3.9.7"
  },
  "orig_nbformat": 4,
  "vscode": {
   "interpreter": {
    "hash": "20a1bd75257d9818f10f0a4c31e678b7ae993b94db9c523fd5ac0c7f04f2856c"
   }
  }
 },
 "nbformat": 4,
 "nbformat_minor": 2
}
